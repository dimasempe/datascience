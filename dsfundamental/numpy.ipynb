{
 "cells": [
  {
   "cell_type": "markdown",
   "id": "ee613709-6fba-4035-bde7-b758f83eba11",
   "metadata": {},
   "source": [
    "## Pengenalan Array Numpy"
   ]
  },
  {
   "cell_type": "code",
   "execution_count": 5,
   "id": "5d645827-fee5-42f0-89a7-3b3eda317dc8",
   "metadata": {},
   "outputs": [],
   "source": [
    "import numpy as np"
   ]
  },
  {
   "cell_type": "markdown",
   "id": "0351bc35-4eff-45a7-bf00-39f52e7df265",
   "metadata": {},
   "source": [
    "**ndarray** : nama class untuk sebuah array"
   ]
  },
  {
   "cell_type": "code",
   "execution_count": 2,
   "id": "a1b2cf0b-14da-4da2-b5cf-afc44500f663",
   "metadata": {},
   "outputs": [
    {
     "name": "stdout",
     "output_type": "stream",
     "text": [
      "[1 2 3]\n",
      "[[1 2 3]\n",
      " [4 5 6]]\n"
     ]
    }
   ],
   "source": [
    "a = np.array([1,2,3])\n",
    "b = np.array([(1,2,3),(4,5,6)])\n",
    "print(a)\n",
    "print(b)"
   ]
  },
  {
   "cell_type": "markdown",
   "id": "0c2300a4-40c1-4e6f-9404-76a2be52e1be",
   "metadata": {},
   "source": [
    "# properties\n",
    "* ndarray.ndim: dimensi (rank) dari sebuah numpy array\n",
    "* ndarray.shape: baris dan kolom dari sebuah numpy array\n",
    "* ndarray.size: jumlah elemen di dalam numpy array\n",
    "* ndarray.dtype: tipe data dari elemen yang ada di numpy array\n",
    "* ndarray.itemsize: ukuran elemen (bytes) yang ada di numpy array\n",
    "* ndarray.data: buffer untuk menyimpan elemen-elemen di dalam numpy array"
   ]
  },
  {
   "cell_type": "code",
   "execution_count": 7,
   "id": "167d376e-189c-4f0d-884f-023e2574263e",
   "metadata": {},
   "outputs": [
    {
     "name": "stdout",
     "output_type": "stream",
     "text": [
      "1\n",
      "(3,)\n",
      "3\n",
      "int32\n",
      "4\n"
     ]
    }
   ],
   "source": [
    "print(a.ndim)\n",
    "print(a.shape)\n",
    "print(a.size)\n",
    "print(a.dtype)\n",
    "print(a.itemsize)"
   ]
  },
  {
   "cell_type": "code",
   "execution_count": 8,
   "id": "e514d0e9-0b87-4543-a682-26a8f90a9337",
   "metadata": {},
   "outputs": [
    {
     "name": "stdout",
     "output_type": "stream",
     "text": [
      "2\n",
      "(2, 3)\n",
      "6\n",
      "int32\n",
      "4\n"
     ]
    }
   ],
   "source": [
    "print(b.ndim)\n",
    "print(b.shape)\n",
    "print(b.size)\n",
    "print(b.dtype)\n",
    "print(b.itemsize)"
   ]
  },
  {
   "cell_type": "markdown",
   "id": "35d1cefc-c1d9-4b3d-9042-5f2b032f2504",
   "metadata": {},
   "source": [
    "# membuat numpy arrays"
   ]
  },
  {
   "cell_type": "markdown",
   "id": "00ff7c3d-a27b-4259-81c3-ba62ed9a577c",
   "metadata": {},
   "source": [
    "* np.zeros: isinya semua 0\n",
    "* np.ones: isinya semua 1\n",
    "* np.arange: bisa berikan scope dan panjang dari step\n",
    "* np.linspace: berikan scope dan jumlah elemen yang diinginkan\n",
    "* np.random.random: memberikan angka acak atau random"
   ]
  },
  {
   "cell_type": "code",
   "execution_count": 9,
   "id": "3c7b5b0b-8824-4b76-988a-63abf402f714",
   "metadata": {},
   "outputs": [
    {
     "data": {
      "text/plain": [
       "array([[0., 0., 0.],\n",
       "       [0., 0., 0.],\n",
       "       [0., 0., 0.]])"
      ]
     },
     "execution_count": 9,
     "metadata": {},
     "output_type": "execute_result"
    }
   ],
   "source": [
    "np.zeros((3,3))"
   ]
  },
  {
   "cell_type": "code",
   "execution_count": 10,
   "id": "c39b030b-031c-491e-9b9b-7e314b44d65a",
   "metadata": {},
   "outputs": [
    {
     "data": {
      "text/plain": [
       "array([[1., 1., 1.],\n",
       "       [1., 1., 1.]])"
      ]
     },
     "execution_count": 10,
     "metadata": {},
     "output_type": "execute_result"
    }
   ],
   "source": [
    "np.ones((2,3))"
   ]
  },
  {
   "cell_type": "code",
   "execution_count": 11,
   "id": "53de916d-747a-43d3-be97-bfe544871efe",
   "metadata": {},
   "outputs": [
    {
     "data": {
      "text/plain": [
       "array([1. , 1.3, 1.6, 1.9, 2.2, 2.5, 2.8, 3.1, 3.4, 3.7])"
      ]
     },
     "execution_count": 11,
     "metadata": {},
     "output_type": "execute_result"
    }
   ],
   "source": [
    "np.arange(1,4,0.3)"
   ]
  },
  {
   "cell_type": "code",
   "execution_count": 12,
   "id": "9bcb3d48-c5ec-42ac-a766-96f9afb403b7",
   "metadata": {},
   "outputs": [
    {
     "data": {
      "text/plain": [
       "array([1. , 1.5, 2. , 2.5, 3. , 3.5, 4. ])"
      ]
     },
     "execution_count": 12,
     "metadata": {},
     "output_type": "execute_result"
    }
   ],
   "source": [
    "np.linspace(1,4,7)"
   ]
  },
  {
   "cell_type": "code",
   "execution_count": 13,
   "id": "c6dada98-1e40-48fd-959d-d34a0756349a",
   "metadata": {},
   "outputs": [
    {
     "data": {
      "text/plain": [
       "array([[0.8133129 , 0.28836149, 0.67534771, 0.03188458],\n",
       "       [0.50935083, 0.78566726, 0.4085139 , 0.32984881],\n",
       "       [0.45035807, 0.15249118, 0.27631815, 0.41674077]])"
      ]
     },
     "execution_count": 13,
     "metadata": {},
     "output_type": "execute_result"
    }
   ],
   "source": [
    "np.random.random((3,4))"
   ]
  },
  {
   "cell_type": "markdown",
   "id": "8a3d7fe3-2f37-4725-aa1f-0df7f7cd0558",
   "metadata": {},
   "source": [
    "# Shape dan Operation\n",
    "\n",
    "* reshape: mengubah dimensi dari sebuah array\n",
    "* vstack: stack numpy array secara vertikal\n",
    "* hstack: stack numpy array secara horizontal\n",
    "* vsplit\n",
    "* hsplit"
   ]
  },
  {
   "cell_type": "code",
   "execution_count": 5,
   "id": "0962672f-443d-4608-ac71-63154ebf4d5f",
   "metadata": {},
   "outputs": [
    {
     "data": {
      "text/plain": [
       "array([[1, 2, 3],\n",
       "       [4, 5, 6]])"
      ]
     },
     "execution_count": 5,
     "metadata": {},
     "output_type": "execute_result"
    }
   ],
   "source": [
    "a = np.array([(1,2,3),(4,5,6)])\n",
    "a"
   ]
  },
  {
   "cell_type": "code",
   "execution_count": 7,
   "id": "c0be297e-ed56-42f3-981e-e7f63e7eb876",
   "metadata": {},
   "outputs": [
    {
     "data": {
      "text/plain": [
       "array([[1, 2],\n",
       "       [3, 4],\n",
       "       [5, 6]])"
      ]
     },
     "execution_count": 7,
     "metadata": {},
     "output_type": "execute_result"
    }
   ],
   "source": [
    "a = a.reshape(3,-1)\n",
    "a"
   ]
  },
  {
   "cell_type": "code",
   "execution_count": 8,
   "id": "c364a3d5-299c-4687-a5ab-f920891da159",
   "metadata": {},
   "outputs": [
    {
     "data": {
      "text/plain": [
       "array([[ 7,  8],\n",
       "       [ 9, 10]])"
      ]
     },
     "execution_count": 8,
     "metadata": {},
     "output_type": "execute_result"
    }
   ],
   "source": [
    "b = np.array([(7,8),(9,10)])\n",
    "b "
   ]
  },
  {
   "cell_type": "code",
   "execution_count": 10,
   "id": "8570918d-bab9-444a-af06-d038efd80c57",
   "metadata": {},
   "outputs": [
    {
     "data": {
      "text/plain": [
       "array([[ 1,  2],\n",
       "       [ 3,  4],\n",
       "       [ 5,  6],\n",
       "       [ 7,  8],\n",
       "       [ 9, 10]])"
      ]
     },
     "execution_count": 10,
     "metadata": {},
     "output_type": "execute_result"
    }
   ],
   "source": [
    "np.vstack((a,b))"
   ]
  },
  {
   "cell_type": "code",
   "execution_count": 13,
   "id": "0d545593-3a67-42f6-8c76-826c993e4c8c",
   "metadata": {},
   "outputs": [
    {
     "data": {
      "text/plain": [
       "array([[11, 12, 13],\n",
       "       [14, 15, 16]])"
      ]
     },
     "execution_count": 13,
     "metadata": {},
     "output_type": "execute_result"
    }
   ],
   "source": [
    "c = np.array([(11,12,13),(14,15,16)])\n",
    "c "
   ]
  },
  {
   "cell_type": "code",
   "execution_count": 14,
   "id": "f636254d-9d9b-4807-8dda-7530480fa20f",
   "metadata": {},
   "outputs": [
    {
     "data": {
      "text/plain": [
       "array([[1, 2, 3],\n",
       "       [4, 5, 6]])"
      ]
     },
     "execution_count": 14,
     "metadata": {},
     "output_type": "execute_result"
    }
   ],
   "source": [
    "a = np.array([(1,2,3),(4,5,6)])\n",
    "a"
   ]
  },
  {
   "cell_type": "code",
   "execution_count": 16,
   "id": "ee4d0e3e-1d5b-45e5-87c9-4e47eb6a560c",
   "metadata": {},
   "outputs": [
    {
     "data": {
      "text/plain": [
       "array([[ 1,  2,  3, 11, 12, 13],\n",
       "       [ 4,  5,  6, 14, 15, 16]])"
      ]
     },
     "execution_count": 16,
     "metadata": {},
     "output_type": "execute_result"
    }
   ],
   "source": [
    "d = np.hstack((a,c))\n",
    "d"
   ]
  },
  {
   "cell_type": "code",
   "execution_count": 17,
   "id": "a7c792a5-ea3d-4688-a907-96a571eb5226",
   "metadata": {},
   "outputs": [
    {
     "data": {
      "text/plain": [
       "[array([[ 1,  2,  3, 11, 12, 13]]), array([[ 4,  5,  6, 14, 15, 16]])]"
      ]
     },
     "execution_count": 17,
     "metadata": {},
     "output_type": "execute_result"
    }
   ],
   "source": [
    "np.vsplit(d,2)"
   ]
  },
  {
   "cell_type": "code",
   "execution_count": 18,
   "id": "775219b5-c4ed-4d3e-8aac-e7b62a5016e5",
   "metadata": {},
   "outputs": [
    {
     "data": {
      "text/plain": [
       "[array([[1, 2, 3],\n",
       "        [4, 5, 6]]),\n",
       " array([[11, 12, 13],\n",
       "        [14, 15, 16]])]"
      ]
     },
     "execution_count": 18,
     "metadata": {},
     "output_type": "execute_result"
    }
   ],
   "source": [
    "np.hsplit(d,2)"
   ]
  },
  {
   "cell_type": "code",
   "execution_count": 19,
   "id": "f690a70c-2abe-4f31-a053-c171c8aa0af4",
   "metadata": {},
   "outputs": [
    {
     "data": {
      "text/plain": [
       "[array([[1],\n",
       "        [4]]),\n",
       " array([[2, 3],\n",
       "        [5, 6]]),\n",
       " array([[11, 12, 13],\n",
       "        [14, 15, 16]])]"
      ]
     },
     "execution_count": 19,
     "metadata": {},
     "output_type": "execute_result"
    }
   ],
   "source": [
    "np.hsplit(d,(1,3)) #split setelah kolum 1 dan kolum 3"
   ]
  },
  {
   "cell_type": "markdown",
   "id": "2b03f03a-0f3d-49cd-b4df-164c184dcfc8",
   "metadata": {},
   "source": [
    "# Indexing"
   ]
  },
  {
   "cell_type": "code",
   "execution_count": 21,
   "id": "f68ba831-79b4-4984-96e6-b583f1f7d0b1",
   "metadata": {},
   "outputs": [
    {
     "data": {
      "text/plain": [
       "array([100, 101, 102, 103, 104, 105, 106, 107, 108, 109, 110, 111, 112,\n",
       "       113, 114, 115, 116, 117, 118, 119, 120, 121, 122, 123, 124, 125,\n",
       "       126, 127, 128, 129, 130, 131, 132, 133, 134, 135, 136, 137, 138,\n",
       "       139, 140, 141, 142, 143, 144, 145, 146, 147, 148, 149, 150, 151,\n",
       "       152, 153, 154, 155, 156, 157, 158, 159, 160, 161, 162, 163, 164,\n",
       "       165, 166, 167, 168, 169, 170, 171, 172, 173, 174, 175, 176, 177,\n",
       "       178, 179, 180, 181, 182, 183, 184, 185, 186, 187, 188, 189, 190,\n",
       "       191, 192, 193, 194, 195, 196, 197, 198, 199])"
      ]
     },
     "execution_count": 21,
     "metadata": {},
     "output_type": "execute_result"
    }
   ],
   "source": [
    "data = np.arange(100,200)\n",
    "data"
   ]
  },
  {
   "cell_type": "code",
   "execution_count": 27,
   "id": "b4c0a7c0-e725-40f3-ac7a-54b3f1bcb131",
   "metadata": {},
   "outputs": [
    {
     "data": {
      "text/plain": [
       "array([[100, 101, 102, 103, 104, 105, 106, 107, 108, 109],\n",
       "       [110, 111, 112, 113, 114, 115, 116, 117, 118, 119],\n",
       "       [120, 121, 122, 123, 124, 125, 126, 127, 128, 129],\n",
       "       [130, 131, 132, 133, 134, 135, 136, 137, 138, 139],\n",
       "       [140, 141, 142, 143, 144, 145, 146, 147, 148, 149],\n",
       "       [150, 151, 152, 153, 154, 155, 156, 157, 158, 159],\n",
       "       [160, 161, 162, 163, 164, 165, 166, 167, 168, 169],\n",
       "       [170, 171, 172, 173, 174, 175, 176, 177, 178, 179],\n",
       "       [180, 181, 182, 183, 184, 185, 186, 187, 188, 189],\n",
       "       [190, 191, 192, 193, 194, 195, 196, 197, 198, 199]])"
      ]
     },
     "execution_count": 27,
     "metadata": {},
     "output_type": "execute_result"
    }
   ],
   "source": [
    "data2D = data.reshape(10,-1)\n",
    "data2D"
   ]
  },
  {
   "cell_type": "code",
   "execution_count": 26,
   "id": "a5ef29a5-2142-4431-9e5d-41f5c0ea16c0",
   "metadata": {},
   "outputs": [
    {
     "data": {
      "text/plain": [
       "array([103, 113, 123, 133, 143, 153, 163, 173, 183, 193])"
      ]
     },
     "execution_count": 26,
     "metadata": {},
     "output_type": "execute_result"
    }
   ],
   "source": [
    "data2D[:,3]"
   ]
  },
  {
   "cell_type": "code",
   "execution_count": 39,
   "id": "dd0295f3-4cbd-4883-8af7-1fecaf345e97",
   "metadata": {},
   "outputs": [
    {
     "data": {
      "text/plain": [
       "array([[113, 114],\n",
       "       [123, 124],\n",
       "       [133, 134]])"
      ]
     },
     "execution_count": 39,
     "metadata": {},
     "output_type": "execute_result"
    }
   ],
   "source": [
    "data2D[1:4,3:5] #baris 123 dan kolom 34"
   ]
  },
  {
   "cell_type": "markdown",
   "id": "dd4634ef-2746-4a02-81f4-b88191a3a15b",
   "metadata": {},
   "source": [
    "# Mathematics array"
   ]
  },
  {
   "cell_type": "code",
   "execution_count": 34,
   "id": "748f7240-dcb3-422c-a5c0-3171a14b1e67",
   "metadata": {},
   "outputs": [
    {
     "data": {
      "text/plain": [
       "array([[0.63941196, 0.88675921, 0.07864792, 0.39802322, 0.66477407],\n",
       "       [0.44975268, 0.9628914 , 0.39152356, 0.44060035, 0.28633719],\n",
       "       [0.64036698, 0.4122851 , 0.6314372 , 0.38816541, 0.02637668],\n",
       "       [0.59723827, 0.91366428, 0.20544589, 0.89707665, 0.73822532],\n",
       "       [0.03086108, 0.61836578, 0.95162451, 0.39335436, 0.55277622]])"
      ]
     },
     "execution_count": 34,
     "metadata": {},
     "output_type": "execute_result"
    }
   ],
   "source": [
    "numbers = np.random.random((5,5))\n",
    "numbers"
   ]
  },
  {
   "cell_type": "code",
   "execution_count": 36,
   "id": "5da68917-5092-4eb9-bb79-b38ae41bdee0",
   "metadata": {},
   "outputs": [
    {
     "name": "stdout",
     "output_type": "stream",
     "text": [
      "0.026376682928146877\n",
      "0.9628913950634624\n",
      "0.5278394121230473\n",
      "13.195985303076183\n"
     ]
    }
   ],
   "source": [
    "print(np.amin(numbers))\n",
    "print(np.amax(numbers))\n",
    "print(np.average(numbers))\n",
    "print(np.sum(numbers))"
   ]
  },
  {
   "cell_type": "code",
   "execution_count": 37,
   "id": "d9624247-3c09-4af1-b161-b2b4050471d9",
   "metadata": {},
   "outputs": [
    {
     "data": {
      "text/plain": [
       "array([[0.79963239, 0.94167893, 0.28044237, 0.63089081, 0.81533679],\n",
       "       [0.67063603, 0.9812703 , 0.62571843, 0.66377733, 0.53510484],\n",
       "       [0.80022933, 0.64209431, 0.79463023, 0.62302922, 0.162409  ],\n",
       "       [0.77281193, 0.95585788, 0.45326139, 0.94714131, 0.8592004 ],\n",
       "       [0.17567323, 0.78636237, 0.97551244, 0.62717969, 0.74348922]])"
      ]
     },
     "execution_count": 37,
     "metadata": {},
     "output_type": "execute_result"
    }
   ],
   "source": [
    "np.sqrt(numbers)"
   ]
  },
  {
   "cell_type": "code",
   "execution_count": 46,
   "id": "a62055de-12d4-4fef-bce0-5a3b0f63452e",
   "metadata": {},
   "outputs": [
    {
     "data": {
      "text/plain": [
       "array([[0.80244679, 0.63192704, 0.99690885, 0.92182899, 0.78705618],\n",
       "       [0.90055465, 0.57114899, 0.92432875, 0.90449579, 0.95928483],\n",
       "       [0.80187655, 0.91620757, 0.80717996, 0.92560499, 0.99965216],\n",
       "       [0.82689185, 0.61084867, 0.97897012, 0.62389725, 0.73966404],\n",
       "       [0.99952383, 0.81482691, 0.58036092, 0.92362857, 0.85107014]])"
      ]
     },
     "execution_count": 46,
     "metadata": {},
     "output_type": "execute_result"
    }
   ],
   "source": [
    "np.cos(numbers) #bisa cari eksponen juga dan lain2"
   ]
  },
  {
   "cell_type": "code",
   "execution_count": 41,
   "id": "2d922e33-0901-47bd-822f-2b931a282e18",
   "metadata": {},
   "outputs": [
    {
     "data": {
      "text/plain": [
       "array([ 1,  2,  3,  4,  5,  6,  7,  8,  9, 10, 11, 12, 13, 14, 15, 16, 17,\n",
       "       18, 19, 20])"
      ]
     },
     "execution_count": 41,
     "metadata": {},
     "output_type": "execute_result"
    }
   ],
   "source": [
    "sample = np.arange(1,21)\n",
    "sample"
   ]
  },
  {
   "cell_type": "code",
   "execution_count": 44,
   "id": "b165d537-2238-4052-be8b-03b7ceb3f1a5",
   "metadata": {},
   "outputs": [
    {
     "data": {
      "text/plain": [
       "array([51, 52, 53, 54, 55, 56, 57, 58, 59, 60, 61, 62, 63, 64, 65, 66, 67,\n",
       "       68, 69, 70])"
      ]
     },
     "execution_count": 44,
     "metadata": {},
     "output_type": "execute_result"
    }
   ],
   "source": [
    "sample2 = np.arange(51,71)\n",
    "sample2"
   ]
  },
  {
   "cell_type": "code",
   "execution_count": 45,
   "id": "b5763a75-52fb-4ddd-a4f6-a99d1f956869",
   "metadata": {},
   "outputs": [
    {
     "data": {
      "text/plain": [
       "array([52, 54, 56, 58, 60, 62, 64, 66, 68, 70, 72, 74, 76, 78, 80, 82, 84,\n",
       "       86, 88, 90])"
      ]
     },
     "execution_count": 45,
     "metadata": {},
     "output_type": "execute_result"
    }
   ],
   "source": [
    "sample + sample2"
   ]
  },
  {
   "cell_type": "markdown",
   "id": "9febf245-229a-432d-a235-8e5ea302c47d",
   "metadata": {},
   "source": [
    "# Matrix"
   ]
  },
  {
   "cell_type": "code",
   "execution_count": 50,
   "id": "c32b286d-4200-416a-ab44-02ba86135103",
   "metadata": {},
   "outputs": [
    {
     "data": {
      "text/plain": [
       "array([[25, 27, 36, 28, 27],\n",
       "       [22, 22, 26, 14, 29],\n",
       "       [14, 34,  1, 19, 33],\n",
       "       [42, 44, 44, 38, 11]])"
      ]
     },
     "execution_count": 50,
     "metadata": {},
     "output_type": "execute_result"
    }
   ],
   "source": [
    "matrix = np.random.randint(1,50,20)\n",
    "matrix = matrix.reshape(4,-1)\n",
    "matrix"
   ]
  },
  {
   "cell_type": "code",
   "execution_count": 51,
   "id": "2a757a4a-78f8-43d6-a098-fe39d151dfaf",
   "metadata": {},
   "outputs": [
    {
     "data": {
      "text/plain": [
       "array([[25, 22, 14, 42],\n",
       "       [27, 22, 34, 44],\n",
       "       [36, 26,  1, 44],\n",
       "       [28, 14, 19, 38],\n",
       "       [27, 29, 33, 11]])"
      ]
     },
     "execution_count": 51,
     "metadata": {},
     "output_type": "execute_result"
    }
   ],
   "source": [
    "matrix.transpose()"
   ]
  },
  {
   "cell_type": "code",
   "execution_count": 53,
   "id": "796dc4c2-2e4a-46fe-93ec-bf626011a8f1",
   "metadata": {},
   "outputs": [
    {
     "data": {
      "text/plain": [
       "array([[-25, -27, -36, -28, -27],\n",
       "       [-22, -22, -26, -14, -29],\n",
       "       [-14, -34,  -1, -19, -33],\n",
       "       [-42, -44, -44, -38, -11]])"
      ]
     },
     "execution_count": 53,
     "metadata": {},
     "output_type": "execute_result"
    }
   ],
   "source": [
    "np.dot(matrix,-1)"
   ]
  },
  {
   "cell_type": "code",
   "execution_count": null,
   "id": "0b823b0e-55ed-476d-8e08-e9ccc0b8e316",
   "metadata": {},
   "outputs": [],
   "source": []
  }
 ],
 "metadata": {
  "kernelspec": {
   "display_name": "Python 3 (ipykernel)",
   "language": "python",
   "name": "python3"
  },
  "language_info": {
   "codemirror_mode": {
    "name": "ipython",
    "version": 3
   },
   "file_extension": ".py",
   "mimetype": "text/x-python",
   "name": "python",
   "nbconvert_exporter": "python",
   "pygments_lexer": "ipython3",
   "version": "3.10.4"
  }
 },
 "nbformat": 4,
 "nbformat_minor": 5
}
