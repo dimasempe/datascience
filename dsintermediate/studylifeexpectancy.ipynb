{
 "cells": [
  {
   "cell_type": "markdown",
   "id": "9a62be1f-50d5-4bab-bb71-c080392a617b",
   "metadata": {},
   "source": [
    "# Data Preprocessing"
   ]
  },
  {
   "cell_type": "code",
   "execution_count": 2,
   "id": "df2a610c-af77-46ad-a0af-6652ddcb7190",
   "metadata": {},
   "outputs": [
    {
     "data": {
      "text/html": [
       "<div>\n",
       "<style scoped>\n",
       "    .dataframe tbody tr th:only-of-type {\n",
       "        vertical-align: middle;\n",
       "    }\n",
       "\n",
       "    .dataframe tbody tr th {\n",
       "        vertical-align: top;\n",
       "    }\n",
       "\n",
       "    .dataframe thead th {\n",
       "        text-align: right;\n",
       "    }\n",
       "</style>\n",
       "<table border=\"1\" class=\"dataframe\">\n",
       "  <thead>\n",
       "    <tr style=\"text-align: right;\">\n",
       "      <th></th>\n",
       "      <th>country</th>\n",
       "      <th>1800</th>\n",
       "      <th>1801</th>\n",
       "      <th>1802</th>\n",
       "      <th>1803</th>\n",
       "      <th>1804</th>\n",
       "      <th>1805</th>\n",
       "      <th>1806</th>\n",
       "      <th>1807</th>\n",
       "      <th>1808</th>\n",
       "      <th>...</th>\n",
       "      <th>2091</th>\n",
       "      <th>2092</th>\n",
       "      <th>2093</th>\n",
       "      <th>2094</th>\n",
       "      <th>2095</th>\n",
       "      <th>2096</th>\n",
       "      <th>2097</th>\n",
       "      <th>2098</th>\n",
       "      <th>2099</th>\n",
       "      <th>2100</th>\n",
       "    </tr>\n",
       "  </thead>\n",
       "  <tbody>\n",
       "    <tr>\n",
       "      <th>0</th>\n",
       "      <td>Afghanistan</td>\n",
       "      <td>28.2</td>\n",
       "      <td>28.2</td>\n",
       "      <td>28.2</td>\n",
       "      <td>28.2</td>\n",
       "      <td>28.2</td>\n",
       "      <td>28.2</td>\n",
       "      <td>28.1</td>\n",
       "      <td>28.1</td>\n",
       "      <td>28.1</td>\n",
       "      <td>...</td>\n",
       "      <td>75.9</td>\n",
       "      <td>76.1</td>\n",
       "      <td>76.2</td>\n",
       "      <td>76.4</td>\n",
       "      <td>76.5</td>\n",
       "      <td>76.7</td>\n",
       "      <td>76.8</td>\n",
       "      <td>77.0</td>\n",
       "      <td>77.1</td>\n",
       "      <td>77.3</td>\n",
       "    </tr>\n",
       "    <tr>\n",
       "      <th>1</th>\n",
       "      <td>Angola</td>\n",
       "      <td>27.0</td>\n",
       "      <td>27.0</td>\n",
       "      <td>27.0</td>\n",
       "      <td>27.0</td>\n",
       "      <td>27.0</td>\n",
       "      <td>27.0</td>\n",
       "      <td>27.0</td>\n",
       "      <td>27.0</td>\n",
       "      <td>27.0</td>\n",
       "      <td>...</td>\n",
       "      <td>75.8</td>\n",
       "      <td>75.9</td>\n",
       "      <td>76.0</td>\n",
       "      <td>76.1</td>\n",
       "      <td>76.3</td>\n",
       "      <td>76.4</td>\n",
       "      <td>76.5</td>\n",
       "      <td>76.7</td>\n",
       "      <td>76.8</td>\n",
       "      <td>76.9</td>\n",
       "    </tr>\n",
       "    <tr>\n",
       "      <th>2</th>\n",
       "      <td>Albania</td>\n",
       "      <td>35.4</td>\n",
       "      <td>35.4</td>\n",
       "      <td>35.4</td>\n",
       "      <td>35.4</td>\n",
       "      <td>35.4</td>\n",
       "      <td>35.4</td>\n",
       "      <td>35.4</td>\n",
       "      <td>35.4</td>\n",
       "      <td>35.4</td>\n",
       "      <td>...</td>\n",
       "      <td>88.9</td>\n",
       "      <td>89.0</td>\n",
       "      <td>89.2</td>\n",
       "      <td>89.3</td>\n",
       "      <td>89.4</td>\n",
       "      <td>89.5</td>\n",
       "      <td>89.6</td>\n",
       "      <td>89.7</td>\n",
       "      <td>89.8</td>\n",
       "      <td>90.0</td>\n",
       "    </tr>\n",
       "    <tr>\n",
       "      <th>3</th>\n",
       "      <td>Andorra</td>\n",
       "      <td>NaN</td>\n",
       "      <td>NaN</td>\n",
       "      <td>NaN</td>\n",
       "      <td>NaN</td>\n",
       "      <td>NaN</td>\n",
       "      <td>NaN</td>\n",
       "      <td>NaN</td>\n",
       "      <td>NaN</td>\n",
       "      <td>NaN</td>\n",
       "      <td>...</td>\n",
       "      <td>91.0</td>\n",
       "      <td>91.1</td>\n",
       "      <td>91.3</td>\n",
       "      <td>91.4</td>\n",
       "      <td>91.5</td>\n",
       "      <td>91.6</td>\n",
       "      <td>91.7</td>\n",
       "      <td>91.8</td>\n",
       "      <td>91.9</td>\n",
       "      <td>92.0</td>\n",
       "    </tr>\n",
       "    <tr>\n",
       "      <th>4</th>\n",
       "      <td>UAE</td>\n",
       "      <td>30.7</td>\n",
       "      <td>30.7</td>\n",
       "      <td>30.7</td>\n",
       "      <td>30.7</td>\n",
       "      <td>30.7</td>\n",
       "      <td>30.7</td>\n",
       "      <td>30.7</td>\n",
       "      <td>30.7</td>\n",
       "      <td>30.7</td>\n",
       "      <td>...</td>\n",
       "      <td>83.7</td>\n",
       "      <td>83.8</td>\n",
       "      <td>83.9</td>\n",
       "      <td>84.0</td>\n",
       "      <td>84.1</td>\n",
       "      <td>84.2</td>\n",
       "      <td>84.3</td>\n",
       "      <td>84.5</td>\n",
       "      <td>84.6</td>\n",
       "      <td>84.7</td>\n",
       "    </tr>\n",
       "  </tbody>\n",
       "</table>\n",
       "<p>5 rows × 302 columns</p>\n",
       "</div>"
      ],
      "text/plain": [
       "       country  1800  1801  1802  1803  1804  1805  1806  1807  1808  ...  \\\n",
       "0  Afghanistan  28.2  28.2  28.2  28.2  28.2  28.2  28.1  28.1  28.1  ...   \n",
       "1       Angola  27.0  27.0  27.0  27.0  27.0  27.0  27.0  27.0  27.0  ...   \n",
       "2      Albania  35.4  35.4  35.4  35.4  35.4  35.4  35.4  35.4  35.4  ...   \n",
       "3      Andorra   NaN   NaN   NaN   NaN   NaN   NaN   NaN   NaN   NaN  ...   \n",
       "4          UAE  30.7  30.7  30.7  30.7  30.7  30.7  30.7  30.7  30.7  ...   \n",
       "\n",
       "   2091  2092  2093  2094  2095  2096  2097  2098  2099  2100  \n",
       "0  75.9  76.1  76.2  76.4  76.5  76.7  76.8  77.0  77.1  77.3  \n",
       "1  75.8  75.9  76.0  76.1  76.3  76.4  76.5  76.7  76.8  76.9  \n",
       "2  88.9  89.0  89.2  89.3  89.4  89.5  89.6  89.7  89.8  90.0  \n",
       "3  91.0  91.1  91.3  91.4  91.5  91.6  91.7  91.8  91.9  92.0  \n",
       "4  83.7  83.8  83.9  84.0  84.1  84.2  84.3  84.5  84.6  84.7  \n",
       "\n",
       "[5 rows x 302 columns]"
      ]
     },
     "execution_count": 2,
     "metadata": {},
     "output_type": "execute_result"
    }
   ],
   "source": [
    "import pandas as pd \n",
    "\n",
    "data = pd.read_csv('lex.csv')\n",
    "data.head()"
   ]
  },
  {
   "cell_type": "code",
   "execution_count": 3,
   "id": "715f4881-27cd-46d5-8139-2f6a476f1370",
   "metadata": {},
   "outputs": [
    {
     "name": "stdout",
     "output_type": "stream",
     "text": [
      "<class 'pandas.core.frame.DataFrame'>\n",
      "RangeIndex: 196 entries, 0 to 195\n",
      "Columns: 302 entries, country to 2100\n",
      "dtypes: float64(301), object(1)\n",
      "memory usage: 462.6+ KB\n"
     ]
    }
   ],
   "source": [
    "data.info()"
   ]
  },
  {
   "cell_type": "code",
   "execution_count": 4,
   "id": "82544580-c44e-4056-92cd-5dec9edd91f5",
   "metadata": {},
   "outputs": [
    {
     "data": {
      "text/html": [
       "<div>\n",
       "<style scoped>\n",
       "    .dataframe tbody tr th:only-of-type {\n",
       "        vertical-align: middle;\n",
       "    }\n",
       "\n",
       "    .dataframe tbody tr th {\n",
       "        vertical-align: top;\n",
       "    }\n",
       "\n",
       "    .dataframe thead th {\n",
       "        text-align: right;\n",
       "    }\n",
       "</style>\n",
       "<table border=\"1\" class=\"dataframe\">\n",
       "  <thead>\n",
       "    <tr style=\"text-align: right;\">\n",
       "      <th></th>\n",
       "      <th>1800</th>\n",
       "      <th>1801</th>\n",
       "      <th>1802</th>\n",
       "      <th>1803</th>\n",
       "      <th>1804</th>\n",
       "      <th>1805</th>\n",
       "      <th>1806</th>\n",
       "      <th>1807</th>\n",
       "      <th>1808</th>\n",
       "      <th>1809</th>\n",
       "      <th>...</th>\n",
       "      <th>2091</th>\n",
       "      <th>2092</th>\n",
       "      <th>2093</th>\n",
       "      <th>2094</th>\n",
       "      <th>2095</th>\n",
       "      <th>2096</th>\n",
       "      <th>2097</th>\n",
       "      <th>2098</th>\n",
       "      <th>2099</th>\n",
       "      <th>2100</th>\n",
       "    </tr>\n",
       "  </thead>\n",
       "  <tbody>\n",
       "    <tr>\n",
       "      <th>count</th>\n",
       "      <td>186.000000</td>\n",
       "      <td>186.000000</td>\n",
       "      <td>186.000000</td>\n",
       "      <td>186.000000</td>\n",
       "      <td>186.000000</td>\n",
       "      <td>186.000000</td>\n",
       "      <td>186.000000</td>\n",
       "      <td>186.000000</td>\n",
       "      <td>186.000000</td>\n",
       "      <td>186.000000</td>\n",
       "      <td>...</td>\n",
       "      <td>196.000000</td>\n",
       "      <td>196.000000</td>\n",
       "      <td>196.000000</td>\n",
       "      <td>196.000000</td>\n",
       "      <td>196.000000</td>\n",
       "      <td>196.000000</td>\n",
       "      <td>196.000000</td>\n",
       "      <td>196.000000</td>\n",
       "      <td>196.000000</td>\n",
       "      <td>196.000000</td>\n",
       "    </tr>\n",
       "    <tr>\n",
       "      <th>mean</th>\n",
       "      <td>31.503763</td>\n",
       "      <td>31.463441</td>\n",
       "      <td>31.480108</td>\n",
       "      <td>31.385484</td>\n",
       "      <td>31.460753</td>\n",
       "      <td>31.586559</td>\n",
       "      <td>31.644086</td>\n",
       "      <td>31.598387</td>\n",
       "      <td>31.385484</td>\n",
       "      <td>31.313441</td>\n",
       "      <td>...</td>\n",
       "      <td>82.605102</td>\n",
       "      <td>82.730102</td>\n",
       "      <td>82.856633</td>\n",
       "      <td>82.985204</td>\n",
       "      <td>83.113265</td>\n",
       "      <td>83.235204</td>\n",
       "      <td>83.363265</td>\n",
       "      <td>83.485204</td>\n",
       "      <td>83.609184</td>\n",
       "      <td>83.735204</td>\n",
       "    </tr>\n",
       "    <tr>\n",
       "      <th>std</th>\n",
       "      <td>3.809510</td>\n",
       "      <td>3.801217</td>\n",
       "      <td>3.932344</td>\n",
       "      <td>3.955872</td>\n",
       "      <td>3.928388</td>\n",
       "      <td>4.003874</td>\n",
       "      <td>4.102694</td>\n",
       "      <td>3.974506</td>\n",
       "      <td>4.080230</td>\n",
       "      <td>4.033412</td>\n",
       "      <td>...</td>\n",
       "      <td>10.628408</td>\n",
       "      <td>10.633405</td>\n",
       "      <td>10.644479</td>\n",
       "      <td>10.650323</td>\n",
       "      <td>10.655959</td>\n",
       "      <td>10.663618</td>\n",
       "      <td>10.667919</td>\n",
       "      <td>10.674303</td>\n",
       "      <td>10.681545</td>\n",
       "      <td>10.685698</td>\n",
       "    </tr>\n",
       "    <tr>\n",
       "      <th>min</th>\n",
       "      <td>23.400000</td>\n",
       "      <td>23.400000</td>\n",
       "      <td>23.400000</td>\n",
       "      <td>19.600000</td>\n",
       "      <td>23.400000</td>\n",
       "      <td>23.400000</td>\n",
       "      <td>23.400000</td>\n",
       "      <td>23.400000</td>\n",
       "      <td>12.500000</td>\n",
       "      <td>13.400000</td>\n",
       "      <td>...</td>\n",
       "      <td>0.000000</td>\n",
       "      <td>0.000000</td>\n",
       "      <td>0.000000</td>\n",
       "      <td>0.000000</td>\n",
       "      <td>0.000000</td>\n",
       "      <td>0.000000</td>\n",
       "      <td>0.000000</td>\n",
       "      <td>0.000000</td>\n",
       "      <td>0.000000</td>\n",
       "      <td>0.000000</td>\n",
       "    </tr>\n",
       "    <tr>\n",
       "      <th>25%</th>\n",
       "      <td>29.025000</td>\n",
       "      <td>28.925000</td>\n",
       "      <td>28.900000</td>\n",
       "      <td>28.900000</td>\n",
       "      <td>28.925000</td>\n",
       "      <td>29.025000</td>\n",
       "      <td>29.025000</td>\n",
       "      <td>29.025000</td>\n",
       "      <td>28.925000</td>\n",
       "      <td>28.825000</td>\n",
       "      <td>...</td>\n",
       "      <td>78.775000</td>\n",
       "      <td>78.950000</td>\n",
       "      <td>79.075000</td>\n",
       "      <td>79.250000</td>\n",
       "      <td>79.450000</td>\n",
       "      <td>79.550000</td>\n",
       "      <td>79.725000</td>\n",
       "      <td>79.850000</td>\n",
       "      <td>80.025000</td>\n",
       "      <td>80.225000</td>\n",
       "    </tr>\n",
       "    <tr>\n",
       "      <th>50%</th>\n",
       "      <td>31.750000</td>\n",
       "      <td>31.650000</td>\n",
       "      <td>31.550000</td>\n",
       "      <td>31.500000</td>\n",
       "      <td>31.550000</td>\n",
       "      <td>31.650000</td>\n",
       "      <td>31.750000</td>\n",
       "      <td>31.750000</td>\n",
       "      <td>31.550000</td>\n",
       "      <td>31.500000</td>\n",
       "      <td>...</td>\n",
       "      <td>84.900000</td>\n",
       "      <td>85.000000</td>\n",
       "      <td>85.150000</td>\n",
       "      <td>85.300000</td>\n",
       "      <td>85.450000</td>\n",
       "      <td>85.600000</td>\n",
       "      <td>85.700000</td>\n",
       "      <td>85.800000</td>\n",
       "      <td>85.950000</td>\n",
       "      <td>86.050000</td>\n",
       "    </tr>\n",
       "    <tr>\n",
       "      <th>75%</th>\n",
       "      <td>33.875000</td>\n",
       "      <td>33.900000</td>\n",
       "      <td>33.875000</td>\n",
       "      <td>33.675000</td>\n",
       "      <td>33.775000</td>\n",
       "      <td>33.875000</td>\n",
       "      <td>33.975000</td>\n",
       "      <td>33.975000</td>\n",
       "      <td>33.775000</td>\n",
       "      <td>33.675000</td>\n",
       "      <td>...</td>\n",
       "      <td>88.525000</td>\n",
       "      <td>88.625000</td>\n",
       "      <td>88.725000</td>\n",
       "      <td>88.850000</td>\n",
       "      <td>89.025000</td>\n",
       "      <td>89.125000</td>\n",
       "      <td>89.225000</td>\n",
       "      <td>89.325000</td>\n",
       "      <td>89.425000</td>\n",
       "      <td>89.525000</td>\n",
       "    </tr>\n",
       "    <tr>\n",
       "      <th>max</th>\n",
       "      <td>42.900000</td>\n",
       "      <td>40.300000</td>\n",
       "      <td>44.400000</td>\n",
       "      <td>44.800000</td>\n",
       "      <td>42.800000</td>\n",
       "      <td>44.300000</td>\n",
       "      <td>45.800000</td>\n",
       "      <td>43.600000</td>\n",
       "      <td>43.500000</td>\n",
       "      <td>41.700000</td>\n",
       "      <td>...</td>\n",
       "      <td>93.700000</td>\n",
       "      <td>93.800000</td>\n",
       "      <td>93.900000</td>\n",
       "      <td>94.100000</td>\n",
       "      <td>94.200000</td>\n",
       "      <td>94.300000</td>\n",
       "      <td>94.400000</td>\n",
       "      <td>94.500000</td>\n",
       "      <td>94.700000</td>\n",
       "      <td>94.800000</td>\n",
       "    </tr>\n",
       "  </tbody>\n",
       "</table>\n",
       "<p>8 rows × 301 columns</p>\n",
       "</div>"
      ],
      "text/plain": [
       "             1800        1801        1802        1803        1804        1805  \\\n",
       "count  186.000000  186.000000  186.000000  186.000000  186.000000  186.000000   \n",
       "mean    31.503763   31.463441   31.480108   31.385484   31.460753   31.586559   \n",
       "std      3.809510    3.801217    3.932344    3.955872    3.928388    4.003874   \n",
       "min     23.400000   23.400000   23.400000   19.600000   23.400000   23.400000   \n",
       "25%     29.025000   28.925000   28.900000   28.900000   28.925000   29.025000   \n",
       "50%     31.750000   31.650000   31.550000   31.500000   31.550000   31.650000   \n",
       "75%     33.875000   33.900000   33.875000   33.675000   33.775000   33.875000   \n",
       "max     42.900000   40.300000   44.400000   44.800000   42.800000   44.300000   \n",
       "\n",
       "             1806        1807        1808        1809  ...        2091  \\\n",
       "count  186.000000  186.000000  186.000000  186.000000  ...  196.000000   \n",
       "mean    31.644086   31.598387   31.385484   31.313441  ...   82.605102   \n",
       "std      4.102694    3.974506    4.080230    4.033412  ...   10.628408   \n",
       "min     23.400000   23.400000   12.500000   13.400000  ...    0.000000   \n",
       "25%     29.025000   29.025000   28.925000   28.825000  ...   78.775000   \n",
       "50%     31.750000   31.750000   31.550000   31.500000  ...   84.900000   \n",
       "75%     33.975000   33.975000   33.775000   33.675000  ...   88.525000   \n",
       "max     45.800000   43.600000   43.500000   41.700000  ...   93.700000   \n",
       "\n",
       "             2092        2093        2094        2095        2096        2097  \\\n",
       "count  196.000000  196.000000  196.000000  196.000000  196.000000  196.000000   \n",
       "mean    82.730102   82.856633   82.985204   83.113265   83.235204   83.363265   \n",
       "std     10.633405   10.644479   10.650323   10.655959   10.663618   10.667919   \n",
       "min      0.000000    0.000000    0.000000    0.000000    0.000000    0.000000   \n",
       "25%     78.950000   79.075000   79.250000   79.450000   79.550000   79.725000   \n",
       "50%     85.000000   85.150000   85.300000   85.450000   85.600000   85.700000   \n",
       "75%     88.625000   88.725000   88.850000   89.025000   89.125000   89.225000   \n",
       "max     93.800000   93.900000   94.100000   94.200000   94.300000   94.400000   \n",
       "\n",
       "             2098        2099        2100  \n",
       "count  196.000000  196.000000  196.000000  \n",
       "mean    83.485204   83.609184   83.735204  \n",
       "std     10.674303   10.681545   10.685698  \n",
       "min      0.000000    0.000000    0.000000  \n",
       "25%     79.850000   80.025000   80.225000  \n",
       "50%     85.800000   85.950000   86.050000  \n",
       "75%     89.325000   89.425000   89.525000  \n",
       "max     94.500000   94.700000   94.800000  \n",
       "\n",
       "[8 rows x 301 columns]"
      ]
     },
     "execution_count": 4,
     "metadata": {},
     "output_type": "execute_result"
    }
   ],
   "source": [
    "data.describe()"
   ]
  },
  {
   "cell_type": "code",
   "execution_count": 5,
   "id": "f0b3bceb-b4a3-46f2-9265-0810cf24015a",
   "metadata": {},
   "outputs": [
    {
     "data": {
      "text/html": [
       "<div>\n",
       "<style scoped>\n",
       "    .dataframe tbody tr th:only-of-type {\n",
       "        vertical-align: middle;\n",
       "    }\n",
       "\n",
       "    .dataframe tbody tr th {\n",
       "        vertical-align: top;\n",
       "    }\n",
       "\n",
       "    .dataframe thead th {\n",
       "        text-align: right;\n",
       "    }\n",
       "</style>\n",
       "<table border=\"1\" class=\"dataframe\">\n",
       "  <thead>\n",
       "    <tr style=\"text-align: right;\">\n",
       "      <th></th>\n",
       "      <th>country</th>\n",
       "      <th>1800</th>\n",
       "      <th>1801</th>\n",
       "      <th>1802</th>\n",
       "      <th>1803</th>\n",
       "      <th>1804</th>\n",
       "      <th>1805</th>\n",
       "      <th>1806</th>\n",
       "      <th>1807</th>\n",
       "      <th>1808</th>\n",
       "      <th>...</th>\n",
       "      <th>2091</th>\n",
       "      <th>2092</th>\n",
       "      <th>2093</th>\n",
       "      <th>2094</th>\n",
       "      <th>2095</th>\n",
       "      <th>2096</th>\n",
       "      <th>2097</th>\n",
       "      <th>2098</th>\n",
       "      <th>2099</th>\n",
       "      <th>2100</th>\n",
       "    </tr>\n",
       "  </thead>\n",
       "  <tbody>\n",
       "    <tr>\n",
       "      <th>77</th>\n",
       "      <td>Indonesia</td>\n",
       "      <td>30.0</td>\n",
       "      <td>30.0</td>\n",
       "      <td>30.0</td>\n",
       "      <td>30.0</td>\n",
       "      <td>30.0</td>\n",
       "      <td>30.0</td>\n",
       "      <td>30.0</td>\n",
       "      <td>30.0</td>\n",
       "      <td>30.0</td>\n",
       "      <td>...</td>\n",
       "      <td>81.5</td>\n",
       "      <td>81.7</td>\n",
       "      <td>81.8</td>\n",
       "      <td>82.0</td>\n",
       "      <td>82.1</td>\n",
       "      <td>82.3</td>\n",
       "      <td>82.4</td>\n",
       "      <td>82.6</td>\n",
       "      <td>82.7</td>\n",
       "      <td>82.9</td>\n",
       "    </tr>\n",
       "  </tbody>\n",
       "</table>\n",
       "<p>1 rows × 302 columns</p>\n",
       "</div>"
      ],
      "text/plain": [
       "      country  1800  1801  1802  1803  1804  1805  1806  1807  1808  ...  \\\n",
       "77  Indonesia  30.0  30.0  30.0  30.0  30.0  30.0  30.0  30.0  30.0  ...   \n",
       "\n",
       "    2091  2092  2093  2094  2095  2096  2097  2098  2099  2100  \n",
       "77  81.5  81.7  81.8  82.0  82.1  82.3  82.4  82.6  82.7  82.9  \n",
       "\n",
       "[1 rows x 302 columns]"
      ]
     },
     "execution_count": 5,
     "metadata": {},
     "output_type": "execute_result"
    }
   ],
   "source": [
    "condition = data['country'] == 'Indonesia'\n",
    "data[condition]"
   ]
  },
  {
   "cell_type": "code",
   "execution_count": 6,
   "id": "645fce3f-4bdf-4199-9b10-a749781c4b36",
   "metadata": {},
   "outputs": [
    {
     "name": "stdout",
     "output_type": "stream",
     "text": [
      "[30.0 30.0 30.0 30.0 30.0 30.0 30.0 30.0 30.0 30.0 30.0 30.0 30.0 30.0\n",
      " 30.0 30.0 30.0 30.0 30.0 30.0 30.0 30.0 30.0 30.0 30.0 30.0 30.0 30.0\n",
      " 30.0 30.0 30.0 30.0 30.0 30.0 30.0 30.0 30.0 30.0 30.0 30.0 30.0 30.0\n",
      " 30.0 30.0 30.0 30.0 30.0 30.0 30.0 30.0 30.0 30.1 30.1 30.2 30.2 30.3\n",
      " 30.3 30.4 30.4 30.5 30.6 30.6 30.7 30.7 30.8 30.8 30.9 30.9 31.0 31.0\n",
      " 31.1 31.1 31.2 31.3 31.3 31.4 31.4 31.5 31.5 31.6 31.6 31.7 31.8 31.8\n",
      " 31.9 31.9 32.0 32.0 32.1 32.1 32.2 32.3 32.3 32.4 32.4 32.5 32.5 32.6\n",
      " 32.6 32.7 32.8 32.8 32.9 32.9 33.0 33.0 33.1 33.1 33.2 33.2 33.3 33.4\n",
      " 33.4 33.5 33.5 33.6 33.6 33.7 15.8 33.8 33.9 33.9 34.0 34.0 34.1 34.1\n",
      " 34.2 34.2 34.9 35.5 36.1 36.8 37.4 38.0 38.7 39.3 39.9 40.6 41.1 41.6\n",
      " 42.1 42.6 33.9 32.8 31.7 30.6 35.9 36.6 37.3 37.9 43.2 43.5 44.0 44.6\n",
      " 45.2 45.7 46.3 46.9 47.2 47.9 48.6 49.1 49.5 50.1 50.8 51.2 51.6 52.2\n",
      " 52.8 53.4 54.1 54.6 55.2 55.8 56.5 56.9 57.3 57.9 58.5 59.1 59.7 60.3\n",
      " 60.9 61.3 61.7 62.1 62.5 62.8 63.2 63.7 64.0 64.5 64.9 65.3 65.7 66.0\n",
      " 66.4 66.7 66.8 67.0 67.2 67.5 67.7 67.8 66.3 68.3 68.4 68.7 68.9 69.1\n",
      " 69.3 69.6 69.8 70.0 70.2 70.4 70.7 70.9 71.1 71.4 69.7 68.4 69.1 72.0\n",
      " 72.1 72.3 72.4 72.5 72.7 72.8 72.9 73.1 73.2 73.3 73.5 73.6 73.7 73.9\n",
      " 74.0 74.1 74.3 74.4 74.5 74.7 74.8 74.9 75.1 75.2 75.3 75.5 75.6 75.7\n",
      " 75.8 76.0 76.1 76.3 76.4 76.5 76.7 76.8 77.0 77.1 77.2 77.4 77.5 77.7\n",
      " 77.8 78.0 78.1 78.2 78.4 78.5 78.7 78.8 79.0 79.1 79.3 79.4 79.5 79.7\n",
      " 79.8 80.0 80.2 80.3 80.5 80.6 80.8 80.9 81.1 81.2 81.4 81.5 81.7 81.8\n",
      " 82.0 82.1 82.3 82.4 82.6 82.7 82.9]\n"
     ]
    }
   ],
   "source": [
    "indo_life_expectancy = data.iloc[77][1:].values\n",
    "print(indo_life_expectancy)"
   ]
  },
  {
   "cell_type": "code",
   "execution_count": 7,
   "id": "ca79a773-8fc7-4e72-be2a-1e11cd959106",
   "metadata": {},
   "outputs": [
    {
     "name": "stdout",
     "output_type": "stream",
     "text": [
      "[1800 1801 1802 1803 1804 1805 1806 1807 1808 1809 1810 1811 1812 1813\n",
      " 1814 1815 1816 1817 1818 1819 1820 1821 1822 1823 1824 1825 1826 1827\n",
      " 1828 1829 1830 1831 1832 1833 1834 1835 1836 1837 1838 1839 1840 1841\n",
      " 1842 1843 1844 1845 1846 1847 1848 1849 1850 1851 1852 1853 1854 1855\n",
      " 1856 1857 1858 1859 1860 1861 1862 1863 1864 1865 1866 1867 1868 1869\n",
      " 1870 1871 1872 1873 1874 1875 1876 1877 1878 1879 1880 1881 1882 1883\n",
      " 1884 1885 1886 1887 1888 1889 1890 1891 1892 1893 1894 1895 1896 1897\n",
      " 1898 1899 1900 1901 1902 1903 1904 1905 1906 1907 1908 1909 1910 1911\n",
      " 1912 1913 1914 1915 1916 1917 1918 1919 1920 1921 1922 1923 1924 1925\n",
      " 1926 1927 1928 1929 1930 1931 1932 1933 1934 1935 1936 1937 1938 1939\n",
      " 1940 1941 1942 1943 1944 1945 1946 1947 1948 1949 1950 1951 1952 1953\n",
      " 1954 1955 1956 1957 1958 1959 1960 1961 1962 1963 1964 1965 1966 1967\n",
      " 1968 1969 1970 1971 1972 1973 1974 1975 1976 1977 1978 1979 1980 1981\n",
      " 1982 1983 1984 1985 1986 1987 1988 1989 1990 1991 1992 1993 1994 1995\n",
      " 1996 1997 1998 1999 2000 2001 2002 2003 2004 2005 2006 2007 2008 2009\n",
      " 2010 2011 2012 2013 2014 2015 2016 2017 2018 2019 2020 2021 2022 2023\n",
      " 2024 2025 2026 2027 2028 2029 2030 2031 2032 2033 2034 2035 2036 2037\n",
      " 2038 2039 2040 2041 2042 2043 2044 2045 2046 2047 2048 2049 2050 2051\n",
      " 2052 2053 2054 2055 2056 2057 2058 2059 2060 2061 2062 2063 2064 2065\n",
      " 2066 2067 2068 2069 2070 2071 2072 2073 2074 2075 2076 2077 2078 2079\n",
      " 2080 2081 2082 2083 2084 2085 2086 2087 2088 2089 2090 2091 2092 2093\n",
      " 2094 2095 2096 2097 2098 2099 2100]\n"
     ]
    }
   ],
   "source": [
    "import numpy as np\n",
    "\n",
    "years = np.array(range(int(data.columns[1:].min()), int(data.columns[1:].max()) +1 ))\n",
    "\n",
    "print(years)"
   ]
  },
  {
   "cell_type": "code",
   "execution_count": 8,
   "id": "fae60634-a348-4ee7-b961-144b9ef25431",
   "metadata": {},
   "outputs": [
    {
     "data": {
      "image/png": "[encoded data removed]",
      "text/plain": [
       "<Figure size 640x480 with 1 Axes>"
      ]
     },
     "metadata": {},
     "output_type": "display_data"
    }
   ],
   "source": [
    "import matplotlib.pyplot as plt\n",
    "\n",
    "plt.plot(years, indo_life_expectancy, 'b.')\n",
    "plt.xticks(years[::10], rotation=45)\n",
    "plt.show()"
   ]
  },
  {
   "cell_type": "markdown",
   "id": "3e3b365b-90bb-4e7e-b697-2a36d130995a",
   "metadata": {},
   "source": [
    "# Train Test Split"
   ]
  },
  {
   "cell_type": "code",
   "execution_count": 9,
   "id": "8ce098f3-6fd2-4bb1-9c31-6d698e63b279",
   "metadata": {},
   "outputs": [
    {
     "data": {
      "text/html": [
       "<div>\n",
       "<style scoped>\n",
       "    .dataframe tbody tr th:only-of-type {\n",
       "        vertical-align: middle;\n",
       "    }\n",
       "\n",
       "    .dataframe tbody tr th {\n",
       "        vertical-align: top;\n",
       "    }\n",
       "\n",
       "    .dataframe thead th {\n",
       "        text-align: right;\n",
       "    }\n",
       "</style>\n",
       "<table border=\"1\" class=\"dataframe\">\n",
       "  <thead>\n",
       "    <tr style=\"text-align: right;\">\n",
       "      <th></th>\n",
       "      <th>Years</th>\n",
       "      <th>Life Expectancy</th>\n",
       "    </tr>\n",
       "  </thead>\n",
       "  <tbody>\n",
       "    <tr>\n",
       "      <th>0</th>\n",
       "      <td>1800</td>\n",
       "      <td>30.0</td>\n",
       "    </tr>\n",
       "    <tr>\n",
       "      <th>1</th>\n",
       "      <td>1801</td>\n",
       "      <td>30.0</td>\n",
       "    </tr>\n",
       "    <tr>\n",
       "      <th>2</th>\n",
       "      <td>1802</td>\n",
       "      <td>30.0</td>\n",
       "    </tr>\n",
       "    <tr>\n",
       "      <th>3</th>\n",
       "      <td>1803</td>\n",
       "      <td>30.0</td>\n",
       "    </tr>\n",
       "    <tr>\n",
       "      <th>4</th>\n",
       "      <td>1804</td>\n",
       "      <td>30.0</td>\n",
       "    </tr>\n",
       "  </tbody>\n",
       "</table>\n",
       "</div>"
      ],
      "text/plain": [
       "   Years Life Expectancy\n",
       "0   1800            30.0\n",
       "1   1801            30.0\n",
       "2   1802            30.0\n",
       "3   1803            30.0\n",
       "4   1804            30.0"
      ]
     },
     "execution_count": 9,
     "metadata": {},
     "output_type": "execute_result"
    }
   ],
   "source": [
    "#training: model latihan\n",
    "#testing: ujiannya\n",
    "from sklearn.model_selection import train_test_split\n",
    "\n",
    "df = pd.DataFrame()\n",
    "df['Years'] = years\n",
    "df['Life Expectancy'] = indo_life_expectancy\n",
    "df.head()"
   ]
  },
  {
   "cell_type": "code",
   "execution_count": 10,
   "id": "de972da0-7dcc-4c0b-84cd-7822c72e93ee",
   "metadata": {},
   "outputs": [],
   "source": [
    "X = df[['Years']] #features\n",
    "y = df['Life Expectancy'] #targets\n",
    "\n",
    "\n",
    "X_train, X_test, y_train, y_test=train_test_split(X, y, test_size=0.2, random_state=42) #0.2 berarti 20% data untuk test\n",
    "# random state biar datanya itu terus walau di run berkali2\n",
    "# X_train = soal latihan\n",
    "# y_train = jawaban latihan\n",
    "# X_test = soal ujian\n",
    "# y_test = jawaban ujian\n"
   ]
  },
  {
   "cell_type": "code",
   "execution_count": 11,
   "id": "b9adf997-0e19-4011-b48c-ec18154bc8c3",
   "metadata": {},
   "outputs": [
    {
     "data": {
      "text/html": [
       "<div>\n",
       "<style scoped>\n",
       "    .dataframe tbody tr th:only-of-type {\n",
       "        vertical-align: middle;\n",
       "    }\n",
       "\n",
       "    .dataframe tbody tr th {\n",
       "        vertical-align: top;\n",
       "    }\n",
       "\n",
       "    .dataframe thead th {\n",
       "        text-align: right;\n",
       "    }\n",
       "</style>\n",
       "<table border=\"1\" class=\"dataframe\">\n",
       "  <thead>\n",
       "    <tr style=\"text-align: right;\">\n",
       "      <th></th>\n",
       "      <th>Years</th>\n",
       "    </tr>\n",
       "  </thead>\n",
       "  <tbody>\n",
       "    <tr>\n",
       "      <th>38</th>\n",
       "      <td>1838</td>\n",
       "    </tr>\n",
       "    <tr>\n",
       "      <th>264</th>\n",
       "      <td>2064</td>\n",
       "    </tr>\n",
       "    <tr>\n",
       "      <th>41</th>\n",
       "      <td>1841</td>\n",
       "    </tr>\n",
       "    <tr>\n",
       "      <th>252</th>\n",
       "      <td>2052</td>\n",
       "    </tr>\n",
       "    <tr>\n",
       "      <th>113</th>\n",
       "      <td>1913</td>\n",
       "    </tr>\n",
       "  </tbody>\n",
       "</table>\n",
       "</div>"
      ],
      "text/plain": [
       "     Years\n",
       "38    1838\n",
       "264   2064\n",
       "41    1841\n",
       "252   2052\n",
       "113   1913"
      ]
     },
     "execution_count": 11,
     "metadata": {},
     "output_type": "execute_result"
    }
   ],
   "source": [
    "X_train.sample(5)"
   ]
  },
  {
   "cell_type": "code",
   "execution_count": 12,
   "id": "95b3d712-d1ad-4dd5-a18f-6e14b6f54f9f",
   "metadata": {},
   "outputs": [
    {
     "data": {
      "text/plain": [
       "131    36.8\n",
       "38     30.0\n",
       "247    75.2\n",
       "44     30.0\n",
       "23     30.0\n",
       "Name: Life Expectancy, dtype: object"
      ]
     },
     "execution_count": 12,
     "metadata": {},
     "output_type": "execute_result"
    }
   ],
   "source": [
    "y_train.sample(5)"
   ]
  },
  {
   "cell_type": "code",
   "execution_count": 13,
   "id": "38b45395-a57f-4628-965e-1326725d1d84",
   "metadata": {},
   "outputs": [
    {
     "data": {
      "text/html": [
       "<div>\n",
       "<style scoped>\n",
       "    .dataframe tbody tr th:only-of-type {\n",
       "        vertical-align: middle;\n",
       "    }\n",
       "\n",
       "    .dataframe tbody tr th {\n",
       "        vertical-align: top;\n",
       "    }\n",
       "\n",
       "    .dataframe thead th {\n",
       "        text-align: right;\n",
       "    }\n",
       "</style>\n",
       "<table border=\"1\" class=\"dataframe\">\n",
       "  <thead>\n",
       "    <tr style=\"text-align: right;\">\n",
       "      <th></th>\n",
       "      <th>Years</th>\n",
       "    </tr>\n",
       "  </thead>\n",
       "  <tbody>\n",
       "    <tr>\n",
       "      <th>177</th>\n",
       "      <td>1977</td>\n",
       "    </tr>\n",
       "    <tr>\n",
       "      <th>289</th>\n",
       "      <td>2089</td>\n",
       "    </tr>\n",
       "    <tr>\n",
       "      <th>228</th>\n",
       "      <td>2028</td>\n",
       "    </tr>\n",
       "    <tr>\n",
       "      <th>198</th>\n",
       "      <td>1998</td>\n",
       "    </tr>\n",
       "    <tr>\n",
       "      <th>60</th>\n",
       "      <td>1860</td>\n",
       "    </tr>\n",
       "  </tbody>\n",
       "</table>\n",
       "</div>"
      ],
      "text/plain": [
       "     Years\n",
       "177   1977\n",
       "289   2089\n",
       "228   2028\n",
       "198   1998\n",
       "60    1860"
      ]
     },
     "execution_count": 13,
     "metadata": {},
     "output_type": "execute_result"
    }
   ],
   "source": [
    "X_test.head(5)"
   ]
  },
  {
   "cell_type": "code",
   "execution_count": 14,
   "id": "15e4ac82-b759-470a-bef2-5bd270e9a21b",
   "metadata": {},
   "outputs": [
    {
     "data": {
      "text/plain": [
       "177    57.9\n",
       "289    81.2\n",
       "228    72.7\n",
       "198    66.8\n",
       "60     30.6\n",
       "Name: Life Expectancy, dtype: object"
      ]
     },
     "execution_count": 14,
     "metadata": {},
     "output_type": "execute_result"
    }
   ],
   "source": [
    "y_test.head(5)"
   ]
  },
  {
   "cell_type": "markdown",
   "id": "f5e61c1d-d6c9-469b-aa04-3ccd9cc8ec10",
   "metadata": {},
   "source": [
    "# Modeling"
   ]
  },
  {
   "cell_type": "code",
   "execution_count": 15,
   "id": "4bb95855-531d-4dfe-b0c1-bce24d805b11",
   "metadata": {},
   "outputs": [
    {
     "data": {
      "text/html": [
       "<style>#sk-container-id-1 {color: black;}#sk-container-id-1 pre{padding: 0;}#sk-container-id-1 div.sk-toggleable {background-color: white;}#sk-container-id-1 label.sk-toggleable__label {cursor: pointer;display: block;width: 100%;margin-bottom: 0;padding: 0.3em;box-sizing: border-box;text-align: center;}#sk-container-id-1 label.sk-toggleable__label-arrow:before {content: \"▸\";float: left;margin-right: 0.25em;color: #696969;}#sk-container-id-1 label.sk-toggleable__label-arrow:hover:before {color: black;}#sk-container-id-1 div.sk-estimator:hover label.sk-toggleable__label-arrow:before {color: black;}#sk-container-id-1 div.sk-toggleable__content {max-height: 0;max-width: 0;overflow: hidden;text-align: left;background-color: #f0f8ff;}#sk-container-id-1 div.sk-toggleable__content pre {margin: 0.2em;color: black;border-radius: 0.25em;background-color: #f0f8ff;}#sk-container-id-1 input.sk-toggleable__control:checked~div.sk-toggleable__content {max-height: 200px;max-width: 100%;overflow: auto;}#sk-container-id-1 input.sk-toggleable__control:checked~label.sk-toggleable__label-arrow:before {content: \"▾\";}#sk-container-id-1 div.sk-estimator input.sk-toggleable__control:checked~label.sk-toggleable__label {background-color: #d4ebff;}#sk-container-id-1 div.sk-label input.sk-toggleable__control:checked~label.sk-toggleable__label {background-color: #d4ebff;}#sk-container-id-1 input.sk-hidden--visually {border: 0;clip: rect(1px 1px 1px 1px);clip: rect(1px, 1px, 1px, 1px);height: 1px;margin: -1px;overflow: hidden;padding: 0;position: absolute;width: 1px;}#sk-container-id-1 div.sk-estimator {font-family: monospace;background-color: #f0f8ff;border: 1px dotted black;border-radius: 0.25em;box-sizing: border-box;margin-bottom: 0.5em;}#sk-container-id-1 div.sk-estimator:hover {background-color: #d4ebff;}#sk-container-id-1 div.sk-parallel-item::after {content: \"\";width: 100%;border-bottom: 1px solid gray;flex-grow: 1;}#sk-container-id-1 div.sk-label:hover label.sk-toggleable__label {background-color: #d4ebff;}#sk-container-id-1 div.sk-serial::before {content: \"\";position: absolute;border-left: 1px solid gray;box-sizing: border-box;top: 0;bottom: 0;left: 50%;z-index: 0;}#sk-container-id-1 div.sk-serial {display: flex;flex-direction: column;align-items: center;background-color: white;padding-right: 0.2em;padding-left: 0.2em;position: relative;}#sk-container-id-1 div.sk-item {position: relative;z-index: 1;}#sk-container-id-1 div.sk-parallel {display: flex;align-items: stretch;justify-content: center;background-color: white;position: relative;}#sk-container-id-1 div.sk-item::before, #sk-container-id-1 div.sk-parallel-item::before {content: \"\";position: absolute;border-left: 1px solid gray;box-sizing: border-box;top: 0;bottom: 0;left: 50%;z-index: -1;}#sk-container-id-1 div.sk-parallel-item {display: flex;flex-direction: column;z-index: 1;position: relative;background-color: white;}#sk-container-id-1 div.sk-parallel-item:first-child::after {align-self: flex-end;width: 50%;}#sk-container-id-1 div.sk-parallel-item:last-child::after {align-self: flex-start;width: 50%;}#sk-container-id-1 div.sk-parallel-item:only-child::after {width: 0;}#sk-container-id-1 div.sk-dashed-wrapped {border: 1px dashed gray;margin: 0 0.4em 0.5em 0.4em;box-sizing: border-box;padding-bottom: 0.4em;background-color: white;}#sk-container-id-1 div.sk-label label {font-family: monospace;font-weight: bold;display: inline-block;line-height: 1.2em;}#sk-container-id-1 div.sk-label-container {text-align: center;}#sk-container-id-1 div.sk-container {/* jupyter's `normalize.less` sets `[hidden] { display: none; }` but bootstrap.min.css set `[hidden] { display: none !important; }` so we also need the `!important` here to be able to override the default hidden behavior on the sphinx rendered scikit-learn.org. See: https://github.com/scikit-learn/scikit-learn/issues/21755 */display: inline-block !important;position: relative;}#sk-container-id-1 div.sk-text-repr-fallback {display: none;}</style><div id=\"sk-container-id-1\" class=\"sk-top-container\"><div class=\"sk-text-repr-fallback\"><pre>LinearRegression()</pre><b>In a Jupyter environment, please rerun this cell to show the HTML representation or trust the notebook. <br />On GitHub, the HTML representation is unable to render, please try loading this page with nbviewer.org.</b></div><div class=\"sk-container\" hidden><div class=\"sk-item\"><div class=\"sk-estimator sk-toggleable\"><input class=\"sk-toggleable__control sk-hidden--visually\" id=\"sk-estimator-id-1\" type=\"checkbox\" checked><label for=\"sk-estimator-id-1\" class=\"sk-toggleable__label sk-toggleable__label-arrow\">LinearRegression</label><div class=\"sk-toggleable__content\"><pre>LinearRegression()</pre></div></div></div></div></div>"
      ],
      "text/plain": [
       "LinearRegression()"
      ]
     },
     "execution_count": 15,
     "metadata": {},
     "output_type": "execute_result"
    }
   ],
   "source": [
    "from sklearn.linear_model import LinearRegression\n",
    "\n",
    "model = LinearRegression()\n",
    "# .fit => untuk latihan\n",
    "# .predict => untuk ujian\n",
    "\n",
    "model.fit(X_train, y_train)"
   ]
  },
  {
   "cell_type": "code",
   "execution_count": 16,
   "id": "b709ed2e-1fab-42b3-9c26-9277fcda6fde",
   "metadata": {},
   "outputs": [
    {
     "data": {
      "text/plain": [
       "(array([0.21951122]), -377.2847442276086)"
      ]
     },
     "execution_count": 16,
     "metadata": {},
     "output_type": "execute_result"
    }
   ],
   "source": [
    "# koefisien/weight\n",
    "# intercept\n",
    "\n",
    "# y = mx + b\n",
    "# m -> slope/wight/gradien\n",
    "# x -> features\n",
    "# b -> intercept/bias\n",
    "\n",
    "# y = m1*x1 + m2+x2 + ... + b (klo banyak features)\n",
    "model.coef_ , model.intercept_"
   ]
  },
  {
   "cell_type": "code",
   "execution_count": 17,
   "id": "848b73ce-5ab5-4a29-b5d3-d940850cfd34",
   "metadata": {},
   "outputs": [
    {
     "data": {
      "text/plain": [
       "array([56.68893701, 81.27419361, 67.88400921, 61.29867262, 31.00612431,\n",
       "       19.81105211, 43.73777505, 51.64017896, 53.83529116, 25.07932138,\n",
       "       18.93300723, 43.29875261, 27.71345602, 55.81089213, 68.32303165,\n",
       "       27.93296724, 45.05484237, 39.12803944, 52.51822384, 40.00608432,\n",
       "       54.71333603, 76.44494678, 70.51814385, 23.32323163, 49.44506676,\n",
       "       71.83521117, 72.93276727, 33.85977017, 41.76217408, 41.54266286,\n",
       "       47.90848823, 79.73761507, 53.61577994, 27.05492236, 21.56714187,\n",
       "       76.22543556, 34.51830383, 37.5914609 , 23.10372041, 30.34759065,\n",
       "       38.03048334, 34.73781505, 81.49370483, 54.49382482, 19.37202967,\n",
       "       48.56702188, 79.07908142, 34.95732627, 72.27423361, 68.10352043,\n",
       "       67.00596434, 40.66461798, 31.66465797, 35.83537115, 66.78645312,\n",
       "       78.20103654, 69.20107653, 82.81077215, 79.51810385, 80.39614873,\n",
       "       57.78649311])"
      ]
     },
     "execution_count": 17,
     "metadata": {},
     "output_type": "execute_result"
    }
   ],
   "source": [
    "y_pred = model.predict(X_test)\n",
    "y_pred #jawaban prediksi dari model"
   ]
  },
  {
   "cell_type": "code",
   "execution_count": 18,
   "id": "6190c1cb-5307-45a2-b733-31b67c936e61",
   "metadata": {},
   "outputs": [
    {
     "data": {
      "text/plain": [
       "177    57.9\n",
       "289    81.2\n",
       "228    72.7\n",
       "198    66.8\n",
       "60     30.6\n",
       "       ... \n",
       "234    73.5\n",
       "296    82.3\n",
       "281    80.0\n",
       "285    80.6\n",
       "182    60.9\n",
       "Name: Life Expectancy, Length: 61, dtype: object"
      ]
     },
     "execution_count": 18,
     "metadata": {},
     "output_type": "execute_result"
    }
   ],
   "source": [
    "y_test #jawaban ujian"
   ]
  },
  {
   "cell_type": "code",
   "execution_count": 19,
   "id": "c7cf8be2-9038-4f8e-a3d9-dae4db3fd76f",
   "metadata": {},
   "outputs": [
    {
     "name": "stdout",
     "output_type": "stream",
     "text": [
      "44.129895078303846\n",
      "6.64303357497942\n"
     ]
    }
   ],
   "source": [
    "from sklearn.metrics import mean_squared_error\n",
    "\n",
    "mse = mean_squared_error(y_test, y_pred)\n",
    "print(mse)\n",
    "rmse = mean_squared_error(y_test, y_pred, squared=False) #ini yg ga dikuadratin\n",
    "print(rmse) # semakin rendah nilainya semakin bagus"
   ]
  },
  {
   "cell_type": "markdown",
   "id": "0a964bf9-1b0c-4088-b67a-d5d57b4f0d09",
   "metadata": {},
   "source": [
    "# Visualize Prediction"
   ]
  },
  {
   "cell_type": "code",
   "execution_count": 20,
   "id": "9597b746-cc81-4e9d-90cd-f7d16bb1027e",
   "metadata": {},
   "outputs": [
    {
     "data": {
      "text/plain": [
       "(2100, 1800)"
      ]
     },
     "execution_count": 20,
     "metadata": {},
     "output_type": "execute_result"
    }
   ],
   "source": [
    "maksi=df['Years'].max()\n",
    "mini =df['Years'].min()\n",
    "maksi, mini"
   ]
  },
  {
   "cell_type": "code",
   "execution_count": 27,
   "id": "d5c2c5cd-839d-41d0-99e1-bac9c26c2a10",
   "metadata": {},
   "outputs": [
    {
     "name": "stderr",
     "output_type": "stream",
     "text": [
      "C:\\Python310\\lib\\site-packages\\sklearn\\base.py:464: UserWarning: X does not have valid feature names, but LinearRegression was fitted with feature names\n",
      "  warnings.warn(\n"
     ]
    },
    {
     "data": {
      "image/png": "[encoded data removed]",
      "text/plain": [
       "<Figure size 640x480 with 1 Axes>"
      ]
     },
     "metadata": {},
     "output_type": "display_data"
    }
   ],
   "source": [
    "import matplotlib.pyplot as plt \n",
    "\n",
    "x_line = [[df['Years'].min()], [df['Years'].max()]]\n",
    "y_line = model.predict(x_line) #prediksi 1800 sampai 2100\n",
    "\n",
    "# plt.plot(x_line,y_line,'r-')\n",
    "plt.plot(X_test, y_test, 'y*')\n",
    "plt.plot(X_test, y_pred, 'g-')\n",
    "# plt.plot(df['Years'], df['Life Expectancy'], 'b.')\n",
    "plt.show()"
   ]
  },
  {
   "cell_type": "markdown",
   "id": "64aa6907-105b-4ffa-9711-dda6938ca6bc",
   "metadata": {},
   "source": [
    "# Coefficient of Determination \n",
    "### how much of the data is 'explained' by the model (R2 score contohnya)"
   ]
  },
  {
   "cell_type": "markdown",
   "id": "8c90b7d7-1544-47ad-81ef-b7d68af59d3b",
   "metadata": {},
   "source": [
    "## Terminology\n",
    "* Residual: difference between target value and predicted value\n",
    "* Residual Sum of Square: summation of the square of every residual (SSres)\n",
    "* Total Sum of Square"
   ]
  },
  {
   "cell_type": "code",
   "execution_count": 30,
   "id": "7d073e0a-6ab5-4441-8c24-b2d56162e176",
   "metadata": {},
   "outputs": [
    {
     "name": "stdout",
     "output_type": "stream",
     "text": [
      "2691.923599776536\n"
     ]
    },
    {
     "data": {
      "text/plain": [
       "numpy.float64"
      ]
     },
     "execution_count": 30,
     "metadata": {},
     "output_type": "execute_result"
    }
   ],
   "source": [
    "# SSres =  sum(target - predict)^2\n",
    "ss_res = ((y_test - y_pred) ** 2).sum(axis=0)\n",
    "print(ss_res)\n",
    "type(ss_res)"
   ]
  },
  {
   "cell_type": "code",
   "execution_count": 38,
   "id": "e6f9db71-27fb-49bf-8da4-0d3057bd7f45",
   "metadata": {},
   "outputs": [
    {
     "data": {
      "text/plain": [
       "50.045901639344265"
      ]
     },
     "execution_count": 38,
     "metadata": {},
     "output_type": "execute_result"
    }
   ],
   "source": [
    "# SStot = sum(target - mean)^2\n",
    "y_mean = np.average(y_test, axis=0)\n",
    "y_mean"
   ]
  },
  {
   "cell_type": "code",
   "execution_count": 40,
   "id": "d3667e5e-dac1-4005-a0a7-2bbd2b2b60bd",
   "metadata": {},
   "outputs": [
    {
     "data": {
      "text/plain": [
       "26286.97147540984"
      ]
     },
     "execution_count": 40,
     "metadata": {},
     "output_type": "execute_result"
    }
   ],
   "source": [
    "ss_tot = ((y_test-y_mean)**2).sum(axis=0)\n",
    "ss_tot"
   ]
  },
  {
   "cell_type": "markdown",
   "id": "8231e789-7842-43e9-a6ad-43002c4a5acc",
   "metadata": {},
   "source": [
    "## R2 Score\n",
    "* R2 = 1 - (ss_res/ss_tot)\n",
    "* typically ranges from 0 to 1"
   ]
  },
  {
   "cell_type": "code",
   "execution_count": 42,
   "id": "d46f70f5-e15a-4888-a185-f0d3a6a55ea8",
   "metadata": {},
   "outputs": [
    {
     "data": {
      "text/plain": [
       "0.8975947608763263"
      ]
     },
     "execution_count": 42,
     "metadata": {},
     "output_type": "execute_result"
    }
   ],
   "source": [
    "r2 = 1-(ss_res/ss_tot)\n",
    "r2 #makin mendekati 1 makin bagus"
   ]
  },
  {
   "cell_type": "code",
   "execution_count": 43,
   "id": "c95ea88b-c64b-4e0f-8bd2-361d61e53ab6",
   "metadata": {},
   "outputs": [
    {
     "name": "stdout",
     "output_type": "stream",
     "text": [
      "0.8975947608763263\n"
     ]
    }
   ],
   "source": [
    "from sklearn.metrics import r2_score\n",
    "\n",
    "print(r2_score(y_test,y_pred))"
   ]
  },
  {
   "cell_type": "code",
   "execution_count": 44,
   "id": "d1c1f9c2-e92b-4b16-af25-d50e430e7638",
   "metadata": {},
   "outputs": [
    {
     "name": "stdout",
     "output_type": "stream",
     "text": [
      "1.0\n"
     ]
    }
   ],
   "source": [
    "print(r2_score(y_test,y_test)) #ini kalo y_pred persis dengan y_test"
   ]
  },
  {
   "cell_type": "code",
   "execution_count": null,
   "id": "40c1f020-c64b-4b8c-9710-dcc7f9104dca",
   "metadata": {},
   "outputs": [],
   "source": []
  }
 ],
 "metadata": {
  "kernelspec": {
   "display_name": "Python 3 (ipykernel)",
   "language": "python",
   "name": "python3"
  },
  "language_info": {
   "codemirror_mode": {
    "name": "ipython",
    "version": 3
   },
   "file_extension": ".py",
   "mimetype": "text/x-python",
   "name": "python",
   "nbconvert_exporter": "python",
   "pygments_lexer": "ipython3",
   "version": "3.10.4"
  }
 },
 "nbformat": 4,
 "nbformat_minor": 5
}
